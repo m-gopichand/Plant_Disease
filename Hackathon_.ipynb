{
  "cells": [
    {
      "cell_type": "code",
      "execution_count": null,
      "metadata": {
        "execution": {
          "iopub.execute_input": "2023-09-24T05:12:15.351708Z",
          "iopub.status.busy": "2023-09-24T05:12:15.351309Z",
          "iopub.status.idle": "2023-09-24T05:12:15.358696Z",
          "shell.execute_reply": "2023-09-24T05:12:15.357637Z",
          "shell.execute_reply.started": "2023-09-24T05:12:15.351670Z"
        },
        "trusted": true,
        "id": "wiahoM7ZTEZq"
      },
      "outputs": [],
      "source": [
        "import os\n",
        "import numpy as np\n",
        "import tensorflow as tf\n",
        "from sklearn.model_selection import train_test_split\n",
        "from tensorflow.keras.preprocessing.image import ImageDataGenerator\n",
        "from tensorflow.keras.models import Sequential\n",
        "from tensorflow.keras.layers import GlobalAveragePooling2D, Dense\n",
        "from tensorflow.keras.applications import EfficientNetB7\n",
        "from tensorflow.keras.callbacks import EarlyStopping, ModelCheckpoint\n",
        "from tensorflow.keras.metrics import CategoricalAccuracy, Precision, Recall, AUC\n",
        "from tensorflow.keras import layers\n",
        "import matplotlib.pyplot as plt"
      ]
    },
    {
      "cell_type": "code",
      "execution_count": null,
      "metadata": {
        "execution": {
          "iopub.execute_input": "2023-09-24T05:11:02.632733Z",
          "iopub.status.busy": "2023-09-24T05:11:02.632098Z",
          "iopub.status.idle": "2023-09-24T05:11:02.654038Z",
          "shell.execute_reply": "2023-09-24T05:11:02.653072Z",
          "shell.execute_reply.started": "2023-09-24T05:11:02.632699Z"
        },
        "trusted": true,
        "id": "1Lfi5A2ZTEZt",
        "outputId": "05e67129-ee22-4539-834c-011b6bb19db0"
      },
      "outputs": [
        {
          "name": "stdout",
          "output_type": "stream",
          "text": [
            "No of Classes :  88\n"
          ]
        }
      ],
      "source": [
        "img_size=224\n",
        "# Directory paths\n",
        "base_dir = \"/kaggle/input/plant-disease-classification-merged-dataset\"\n",
        "classes = os.listdir(base_dir)\n",
        "print('No of Classes : ',len(classes))"
      ]
    },
    {
      "cell_type": "code",
      "execution_count": null,
      "metadata": {
        "execution": {
          "iopub.execute_input": "2023-09-24T05:11:03.042537Z",
          "iopub.status.busy": "2023-09-24T05:11:03.042185Z",
          "iopub.status.idle": "2023-09-24T05:11:03.048917Z",
          "shell.execute_reply": "2023-09-24T05:11:03.047912Z",
          "shell.execute_reply.started": "2023-09-24T05:11:03.042507Z"
        },
        "trusted": true,
        "id": "Ud5_LQ1rTEZu"
      },
      "outputs": [],
      "source": [
        "train_datagen = ImageDataGenerator(\n",
        "    rescale=1./255,\n",
        "    rotation_range=40,\n",
        "    width_shift_range=0.2,\n",
        "    height_shift_range=0.2,\n",
        "    vertical_flip=True,\n",
        "    horizontal_flip=True,\n",
        "    validation_split=0.2\n",
        ")\n",
        "\n",
        "val_datagen = ImageDataGenerator(rescale=1./255, validation_split=0.2)"
      ]
    },
    {
      "cell_type": "code",
      "execution_count": null,
      "metadata": {
        "execution": {
          "iopub.execute_input": "2023-09-24T05:11:04.212741Z",
          "iopub.status.busy": "2023-09-24T05:11:04.212361Z",
          "iopub.status.idle": "2023-09-24T05:11:42.564650Z",
          "shell.execute_reply": "2023-09-24T05:11:42.563639Z",
          "shell.execute_reply.started": "2023-09-24T05:11:04.212710Z"
        },
        "trusted": true,
        "id": "asl0QjbkTEZu",
        "outputId": "a2f2e975-e42d-43e0-98f6-c75d10e8a57f"
      },
      "outputs": [
        {
          "name": "stdout",
          "output_type": "stream",
          "text": [
            "Found 63302 images belonging to 88 classes.\n",
            "Found 15784 images belonging to 88 classes.\n"
          ]
        }
      ],
      "source": [
        "train_data = train_datagen.flow_from_directory(\n",
        "    base_dir,\n",
        "    target_size=(img_size, img_size),\n",
        "    batch_size=16,\n",
        "    class_mode='categorical',\n",
        "    subset='training'\n",
        ")\n",
        "\n",
        "val_data = val_datagen.flow_from_directory(\n",
        "    base_dir,\n",
        "    target_size=(img_size, img_size),\n",
        "    batch_size=16,\n",
        "    class_mode='categorical',\n",
        "    subset='validation'\n",
        ")"
      ]
    },
    {
      "cell_type": "code",
      "execution_count": null,
      "metadata": {
        "id": "i_ZRVs88TEZv"
      },
      "outputs": [],
      "source": [
        "train_data = (\n",
        "                 train_data\n",
        "                 .shuffle(buffer_size=8, reshuffle_each_iteration = True)\n",
        "                 .prefetch(tf.data.AUTOTUNE)\n",
        "                 )"
      ]
    },
    {
      "cell_type": "code",
      "execution_count": null,
      "metadata": {
        "execution": {
          "iopub.execute_input": "2023-09-24T05:12:18.695280Z",
          "iopub.status.busy": "2023-09-24T05:12:18.694533Z",
          "iopub.status.idle": "2023-09-24T05:12:21.766748Z",
          "shell.execute_reply": "2023-09-24T05:12:21.765794Z",
          "shell.execute_reply.started": "2023-09-24T05:12:18.695228Z"
        },
        "trusted": true,
        "id": "oMysnlpDTEZv"
      },
      "outputs": [],
      "source": [
        "base_model = tf.keras.applications.inception_v3.InceptionV3(include_top=False)\n",
        "base_model.trainable = True\n",
        "\n",
        "inputs = layers.Input(shape=(224, 224, 3), name=\"input_layer\")\n",
        "x = base_model(inputs, training=True)\n",
        "x = layers.GlobalAveragePooling2D(name=\"global_average_pooling\")(x)\n",
        "outputs = layers.Dense(88, activation=\"softmax\", name=\"output_layer\")(x)\n",
        "model = tf.keras.Model(inputs, outputs)"
      ]
    },
    {
      "cell_type": "code",
      "execution_count": null,
      "metadata": {
        "execution": {
          "iopub.execute_input": "2023-09-24T05:12:22.965012Z",
          "iopub.status.busy": "2023-09-24T05:12:22.964407Z",
          "iopub.status.idle": "2023-09-24T05:12:22.997891Z",
          "shell.execute_reply": "2023-09-24T05:12:22.996955Z",
          "shell.execute_reply.started": "2023-09-24T05:12:22.964978Z"
        },
        "trusted": true,
        "id": "CAIT8nXATEZv"
      },
      "outputs": [],
      "source": [
        "metrics = [\n",
        "    CategoricalAccuracy(name='accuracy'),\n",
        "    Precision(name='precision'),\n",
        "    Recall(name='recall'),\n",
        "    AUC(name='auc')\n",
        "]"
      ]
    },
    {
      "cell_type": "code",
      "execution_count": null,
      "metadata": {
        "execution": {
          "iopub.execute_input": "2023-09-24T05:12:24.845966Z",
          "iopub.status.busy": "2023-09-24T05:12:24.845193Z",
          "iopub.status.idle": "2023-09-24T05:12:24.870875Z",
          "shell.execute_reply": "2023-09-24T05:12:24.869966Z",
          "shell.execute_reply.started": "2023-09-24T05:12:24.845931Z"
        },
        "trusted": true,
        "id": "UojvcVnaTEZw"
      },
      "outputs": [],
      "source": [
        "optimizer = tf.keras.optimizers.Adam(learning_rate=1e-4)\n",
        "model.compile(optimizer=optimizer, loss='categorical_crossentropy', metrics=metrics)"
      ]
    },
    {
      "cell_type": "code",
      "execution_count": null,
      "metadata": {
        "execution": {
          "iopub.execute_input": "2023-09-24T05:12:25.139008Z",
          "iopub.status.busy": "2023-09-24T05:12:25.137841Z",
          "iopub.status.idle": "2023-09-24T05:12:25.184538Z",
          "shell.execute_reply": "2023-09-24T05:12:25.183650Z",
          "shell.execute_reply.started": "2023-09-24T05:12:25.138961Z"
        },
        "trusted": true,
        "id": "SgfC_hVYTEZw",
        "outputId": "3c3484dc-e716-4a46-d506-b4f98d72727c"
      },
      "outputs": [
        {
          "name": "stdout",
          "output_type": "stream",
          "text": [
            "Model: \"model\"\n",
            "_________________________________________________________________\n",
            " Layer (type)                Output Shape              Param #   \n",
            "=================================================================\n",
            " input_layer (InputLayer)    [(None, 224, 224, 3)]     0         \n",
            "                                                                 \n",
            " inception_v3 (Functional)   (None, None, None, 2048)  21802784  \n",
            "                                                                 \n",
            " global_average_pooling (Glo  (None, 2048)             0         \n",
            " balAveragePooling2D)                                            \n",
            "                                                                 \n",
            " output_layer (Dense)        (None, 88)                180312    \n",
            "                                                                 \n",
            "=================================================================\n",
            "Total params: 21,983,096\n",
            "Trainable params: 21,948,664\n",
            "Non-trainable params: 34,432\n",
            "_________________________________________________________________\n"
          ]
        }
      ],
      "source": [
        "model.summary()"
      ]
    },
    {
      "cell_type": "code",
      "execution_count": null,
      "metadata": {
        "execution": {
          "iopub.execute_input": "2023-09-24T05:12:28.554000Z",
          "iopub.status.busy": "2023-09-24T05:12:28.553268Z",
          "iopub.status.idle": "2023-09-24T05:12:28.559523Z",
          "shell.execute_reply": "2023-09-24T05:12:28.558516Z",
          "shell.execute_reply.started": "2023-09-24T05:12:28.553966Z"
        },
        "trusted": true,
        "id": "teHfpyGuTEZw"
      },
      "outputs": [],
      "source": [
        "early_stopping = EarlyStopping(monitor='val_loss', patience= 2, verbose=1, restore_best_weights=True)\n",
        "model_checkpoint = ModelCheckpoint('best_model.h5', monitor='val_accuracy', save_best_only=True, verbose=1)\n",
        "callbacks = [early_stopping, model_checkpoint]"
      ]
    },
    {
      "cell_type": "code",
      "execution_count": null,
      "metadata": {
        "execution": {
          "iopub.execute_input": "2023-09-24T05:12:31.711538Z",
          "iopub.status.busy": "2023-09-24T05:12:31.710464Z",
          "iopub.status.idle": "2023-09-24T07:26:41.285283Z",
          "shell.execute_reply": "2023-09-24T07:26:41.284325Z",
          "shell.execute_reply.started": "2023-09-24T05:12:31.711495Z"
        },
        "trusted": true,
        "id": "3qCOKZCFTEZx",
        "outputId": "e74dafb5-361c-49e7-924c-0babda53d93f"
      },
      "outputs": [
        {
          "name": "stdout",
          "output_type": "stream",
          "text": [
            "Epoch 1/4\n",
            "3957/3957 [==============================] - ETA: 0s - loss: 0.5698 - accuracy: 0.8298 - precision: 0.9038 - recall: 0.7767 - auc: 0.9944\n",
            "Epoch 1: val_accuracy improved from -inf to 0.87107, saving model to best_model.h5\n",
            "3957/3957 [==============================] - 2169s 536ms/step - loss: 0.5698 - accuracy: 0.8298 - precision: 0.9038 - recall: 0.7767 - auc: 0.9944 - val_loss: 0.4110 - val_accuracy: 0.8711 - val_precision: 0.9095 - val_recall: 0.8447 - val_auc: 0.9947\n",
            "Epoch 2/4\n",
            "3957/3957 [==============================] - ETA: 0s - loss: 0.2839 - accuracy: 0.9072 - precision: 0.9335 - recall: 0.8865 - auc: 0.9976\n",
            "Epoch 2: val_accuracy improved from 0.87107 to 0.89534, saving model to best_model.h5\n",
            "3957/3957 [==============================] - 1961s 496ms/step - loss: 0.2839 - accuracy: 0.9072 - precision: 0.9335 - recall: 0.8865 - auc: 0.9976 - val_loss: 0.3527 - val_accuracy: 0.8953 - val_precision: 0.9194 - val_recall: 0.8795 - val_auc: 0.9934\n",
            "Epoch 3/4\n",
            "3957/3957 [==============================] - ETA: 0s - loss: 0.2301 - accuracy: 0.9234 - precision: 0.9435 - recall: 0.9077 - auc: 0.9982\n",
            "Epoch 3: val_accuracy improved from 0.89534 to 0.90110, saving model to best_model.h5\n",
            "3957/3957 [==============================] - 1987s 502ms/step - loss: 0.2301 - accuracy: 0.9234 - precision: 0.9435 - recall: 0.9077 - auc: 0.9982 - val_loss: 0.3508 - val_accuracy: 0.9011 - val_precision: 0.9235 - val_recall: 0.8864 - val_auc: 0.9931\n",
            "Epoch 4/4\n",
            "3957/3957 [==============================] - ETA: 0s - loss: 0.2007 - accuracy: 0.9325 - precision: 0.9497 - recall: 0.9190 - auc: 0.9986\n",
            "Epoch 4: val_accuracy improved from 0.90110 to 0.91314, saving model to best_model.h5\n",
            "3957/3957 [==============================] - 1931s 488ms/step - loss: 0.2007 - accuracy: 0.9325 - precision: 0.9497 - recall: 0.9190 - auc: 0.9986 - val_loss: 0.3134 - val_accuracy: 0.9131 - val_precision: 0.9339 - val_recall: 0.9012 - val_auc: 0.9931\n"
          ]
        }
      ],
      "source": [
        "history = model.fit(train_data,\n",
        "                    validation_data=val_data,\n",
        "                    epochs=4,\n",
        "                    batch_size=16,\n",
        "                    callbacks=callbacks)"
      ]
    },
    {
      "cell_type": "code",
      "execution_count": null,
      "metadata": {
        "execution": {
          "iopub.execute_input": "2023-09-24T07:32:54.522774Z",
          "iopub.status.busy": "2023-09-24T07:32:54.522362Z",
          "iopub.status.idle": "2023-09-24T07:32:55.096299Z",
          "shell.execute_reply": "2023-09-24T07:32:55.095401Z",
          "shell.execute_reply.started": "2023-09-24T07:32:54.522743Z"
        },
        "trusted": true,
        "id": "M1mvRApQTEZx",
        "outputId": "687ba144-4cbf-4ee4-a6c7-81dc16e714c1"
      },
      "outputs": [
        {
          "data": {
            "image/png": "[encoded data removed]",
            "text/plain": [
              "<Figure size 1200x400 with 2 Axes>"
            ]
          },
          "metadata": {},
          "output_type": "display_data"
        }
      ],
      "source": [
        "plt.figure(figsize=(12, 4))\n",
        "plt.subplot(1, 2, 1)\n",
        "plt.plot(history.history['accuracy'], label='Train Accuracy')\n",
        "plt.plot(history.history['val_accuracy'], label='Validation Accuracy')\n",
        "plt.legend()\n",
        "plt.title('Accuracy')\n",
        "\n",
        "plt.subplot(1, 2, 2)\n",
        "plt.plot(history.history['loss'], label='Train Loss')\n",
        "plt.plot(history.history['val_loss'], label='Validation Loss')\n",
        "plt.legend()\n",
        "plt.title('Loss')\n",
        "\n",
        "plt.show()"
      ]
    }
  ],
  "metadata": {
    "kernelspec": {
      "display_name": "Python 3",
      "language": "python",
      "name": "python3"
    },
    "language_info": {
      "codemirror_mode": {
        "name": "ipython",
        "version": 3
      },
      "file_extension": ".py",
      "mimetype": "text/x-python",
      "name": "python",
      "nbconvert_exporter": "python",
      "pygments_lexer": "ipython3",
      "version": "3.10.12"
    },
    "colab": {
      "provenance": []
    }
  },
  "nbformat": 4,
  "nbformat_minor": 0
}